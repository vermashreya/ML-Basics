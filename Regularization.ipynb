{
 "cells": [
  {
   "cell_type": "code",
   "execution_count": 34,
   "metadata": {},
   "outputs": [],
   "source": [
    "#Importing the libraries\n",
    "import numpy as np\n",
    "import math\n",
    "import matplotlib.pyplot as plt\n",
    "import textwrap\n",
    "%matplotlib inline\n"
   ]
  },
  {
   "cell_type": "code",
   "execution_count": 35,
   "metadata": {},
   "outputs": [],
   "source": [
    "#making a function to generate data\n",
    "\n",
    "def generateUniformData(l, u, N, gVar):\n",
    "      \n",
    "         '''where l is lower value, u is upper [l,u) , N is number of sample of the uniformly spaced data,\n",
    "         gVar is the variance of the Gaussian random noise which has zero mean'''\n",
    "         step = (u-l)/(N)\n",
    "         x = np.arange(l + step/2, u +step/2, step) #numpy.arange([start, ]stop, [step, ]dtype=None)\n",
    "         #Draw random samples from a normal (Gaussian) distribution.\n",
    "         e = np.random.normal(0, gVar, N) #numpy.random.normal(loc=0.0, scale=1.0, size=None), loc- mean, scale - variance\n",
    "         #generating a non-linear func\n",
    "         t= np.sin(2*math.pi*x) + e\n",
    "         return x,t\n",
    "                      \n",
    "    "
   ]
  },
  {
   "cell_type": "code",
   "execution_count": 36,
   "metadata": {},
   "outputs": [],
   "source": [
    "#making thep plot function\n",
    "def PlotData(x1, t1, x2, t2, x3= None, t3 = None, legend =[]):\n",
    "    p1 = plt.plot(x1, t1, 'bo')#training data\n",
    "    p2 = plt.plot(x2, t2, 'g') #plot true data\n",
    "    if(x3 is not None):\n",
    "        p3 = plt.plot(x3, t3, 'r')\n",
    "    plt.xlabel('x')\n",
    "    plt.ylabel('t')\n",
    "    \n",
    "    if(x3 is None):\n",
    "        plt.legend((p1[0], p2[0]), legend)\n",
    "    else:\n",
    "        plt.legend((p1[0], p2[0], p3[0]), legend)\n",
    "        \n"
   ]
  },
  {
   "cell_type": "code",
   "execution_count": 46,
   "metadata": {},
   "outputs": [
    {
     "name": "stdout",
     "output_type": "stream",
     "text": [
      "[-6.23719875e-09 -1.56163876e-08 -3.90131409e-08 -9.75366544e-08\n",
      " -2.43845782e-07 -6.09613010e-07 -1.52403212e-06 -3.81008089e-06\n",
      " -9.52520220e-06 -2.38130054e-05]\n",
      "[-6.23719875e-09 -1.56163876e-08 -3.90131409e-08 -9.75366544e-08\n",
      " -2.43845782e-07 -6.09613010e-07 -1.52403212e-06 -3.81008089e-06\n",
      " -9.52520220e-06 -2.38130054e-05]\n"
     ]
    },
    {
     "data": {
      "image/png": "[encoded data removed]",
      "text/plain": [
       "<Figure size 432x288 with 1 Axes>"
      ]
     },
     "metadata": {
      "needs_background": "light"
     },
     "output_type": "display_data"
    }
   ],
   "source": [
    "#making function to fit the data  \n",
    "def fitdataReg(x, t, M, la):\n",
    "    X= np.array([x ** m for m in range (M+1)]).T\n",
    "    w = np.linalg.inv(X.T@X + (la* np.identity(M+1)))@X. T@t\n",
    "    return w\n",
    "\n",
    "l = 0\n",
    "u = 1\n",
    "N = 5\n",
    "gVar= 0.1\n",
    "\n",
    "data_uniform = np.array(generateUniformData(N, l , u , gVar)).T\n",
    "x1 = data_uniform[:, 0]\n",
    "t1 = data_uniform[: , 1]\n",
    "\n",
    "w = fitdataReg(x1,t1,9,1) #model order = 9, lambda = 10\n",
    "#change lambda  and see the different values\n",
    "print(w)\n",
    "\n",
    "\n",
    "x2 = np.arange(l,u,0.001)  #get equally spaced points in the xrange\n",
    "t2 = np.sin(2*math.pi*x2) #compute the true function value\n",
    "\n",
    "    \n",
    "X3 = np.array([x2**m for m in range(M+1)]).T\n",
    "x3 = x2\n",
    "t3 = X3@w\n",
    "\n",
    "PlotData(x1, t1, x2, t2, x3, t3, legend=['Training Data', 'True Function', 'Estimated Function'])\n",
    "print(w)\n",
    "\n",
    "\n",
    "\n"
   ]
  }
 ],
 "metadata": {
  "kernelspec": {
   "display_name": "Python 3",
   "language": "python",
   "name": "python3"
  },
  "language_info": {
   "codemirror_mode": {
    "name": "ipython",
    "version": 3
   },
   "file_extension": ".py",
   "mimetype": "text/x-python",
   "name": "python",
   "nbconvert_exporter": "python",
   "pygments_lexer": "ipython3",
   "version": "3.7.6"
  }
 },
 "nbformat": 4,
 "nbformat_minor": 4
}
