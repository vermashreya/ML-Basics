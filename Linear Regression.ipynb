{
 "cells": [
  {
   "cell_type": "markdown",
   "metadata": {},
   "source": [
    "## Linear Regression\n",
    "\n",
    "Linear Regression is a good starting point for regression models\n"
   ]
  },
  {
   "cell_type": "code",
   "execution_count": 11,
   "metadata": {},
   "outputs": [],
   "source": [
    "%matplotlib inline\n",
    "import numpy as np\n",
    "import seaborn as sns; sns.set()\n",
    "import matplotlib.pyplot as plt\n"
   ]
  },
  {
   "cell_type": "markdown",
   "metadata": {},
   "source": [
    "Simple Linear Regression will be y = ax+b"
   ]
  },
  {
   "cell_type": "code",
   "execution_count": 12,
   "metadata": {},
   "outputs": [
    {
     "data": {
      "text/plain": [
       "<matplotlib.collections.PathCollection at 0x225c2561788>"
      ]
     },
     "execution_count": 12,
     "metadata": {},
     "output_type": "execute_result"
    },
    {
     "data": {
      "image/png": "[encoded data removed]",
      "text/plain": [
       "<Figure size 432x288 with 1 Axes>"
      ]
     },
     "metadata": {},
     "output_type": "display_data"
    }
   ],
   "source": [
    "#setting a seed so we get the same result everytime\n",
    "random_num = np.random.RandomState(1)\n",
    "x = 5* random_num.rand(30)\n",
    "y = 2 * x - 6 + random_num.rand(30)\n",
    "#This will show us how the data for linear regression looks like\n",
    "plt.scatter(x,y)"
   ]
  },
  {
   "cell_type": "code",
   "execution_count": 13,
   "metadata": {},
   "outputs": [
    {
     "data": {
      "text/plain": [
       "[<matplotlib.lines.Line2D at 0x225c2608dc8>]"
      ]
     },
     "execution_count": 13,
     "metadata": {},
     "output_type": "execute_result"
    },
    {
     "data": {
      "image/png": "[encoded data removed]",
      "text/plain": [
       "<Figure size 432x288 with 1 Axes>"
      ]
     },
     "metadata": {},
     "output_type": "display_data"
    }
   ],
   "source": [
    "#Now to fit the data we will use Scikit's **Linear Regression** \n",
    "from sklearn.linear_model import LinearRegression\n",
    "\n",
    "#Defining the model\n",
    "model = LinearRegression(fit_intercept = True)\n",
    "model.fit(x[:, np.newaxis] ,y) #The new axis will change dimension of the array\n",
    "xfit = np.linspace(0, 10, 1000)\n",
    "yfit = model.predict(xfit[:, np.newaxis])\n",
    "plt.scatter(x,y)\n",
    "plt.plot(xfit, yfit)"
   ]
  },
  {
   "cell_type": "code",
   "execution_count": 14,
   "metadata": {},
   "outputs": [
    {
     "name": "stdout",
     "output_type": "stream",
     "text": [
      "The slope of the model is : 2.0089682752971263\n",
      "The intercept is : -5.552340500568972\n"
     ]
    }
   ],
   "source": [
    "#To print the slope and intercept we have \n",
    "print(\"The slope of the model is :\", model.coef_[0])\n",
    "print(\"The intercept is :\", model.intercept_)\n",
    "#The results look closer to the inputs\n",
    "\n"
   ]
  },
  {
   "cell_type": "code",
   "execution_count": 15,
   "metadata": {},
   "outputs": [],
   "source": [
    "#The LinearRegression estimator not only fits straight lines but it can be used to fit higher dimensional models\n",
    "#Using numpy's matrix multiplication operator let's build a multidimensional matrix\n",
    "randomgen = np.random.RandomState(1)\n",
    "a = 10 * randomgen.rand(100,3)\n",
    "b = 0.5 + np.dot(a, [1.5, -2.0, 1.0])\n"
   ]
  },
  {
   "cell_type": "code",
   "execution_count": 16,
   "metadata": {},
   "outputs": [
    {
     "name": "stdout",
     "output_type": "stream",
     "text": [
      "The model slope is [2.00896828]\n",
      "The intercept is: -5.552340500568972\n"
     ]
    }
   ],
   "source": [
    "#Printing the model slope and intercept\n",
    "print(\"The model slope is\", model.coef_)\n",
    "print(\"The intercept is:\", model.intercept_)"
   ]
  },
  {
   "cell_type": "markdown",
   "metadata": {},
   "source": [
    "## Basis Functions\n",
    "We can  use basis functions to adapt linear regression to non linear models by tranforming the data according to basis functions\n",
    "$x_{n}$ = $f_{n}$ (x) , where fn() is some function that transforms the data.\n",
    "\n",
    "## Polynomial Basis Function\n",
    "\n",
    "#### Refer to Polynomialcurvefitting where, \n",
    "$f_{n}$ = $x^{n}$\n",
    "\n",
    "It is a linear model where the values of x will be projected in higher dimension\n",
    "\n",
    "The polymial basis function is in-built in Scikit learn as the **PolynomialFeatures** transformers\n"
   ]
  },
  {
   "cell_type": "code",
   "execution_count": 17,
   "metadata": {},
   "outputs": [
    {
     "name": "stdout",
     "output_type": "stream",
     "text": [
      "[5 6 7]\n"
     ]
    },
    {
     "data": {
      "text/plain": [
       "array([[   5.,   25.,  125.,  625.],\n",
       "       [   6.,   36.,  216., 1296.],\n",
       "       [   7.,   49.,  343., 2401.]])"
      ]
     },
     "execution_count": 17,
     "metadata": {},
     "output_type": "execute_result"
    }
   ],
   "source": [
    "from sklearn. preprocessing import PolynomialFeatures\n",
    "x1 = np.array([5, 6, 7])\n",
    "print(x1)\n",
    "model2 = PolynomialFeatures(4, include_bias = False) #upto 4\n",
    "#fit_transform from sklearn is used to fit model to data and then transform it.\n",
    "#will return the transformed array    \n",
    "\n",
    "model2.fit_transform(x1[:, None])\n",
    "#will give transformed 3-d array by taking exponent of each element (see explanation in markdown cell)\n"
   ]
  },
  {
   "cell_type": "code",
   "execution_count": 18,
   "metadata": {},
   "outputs": [],
   "source": [
    "#Now the transformed data can be plugged into a linear regression\n",
    "#We can use a pipeline to do this, have Polynomial Fetures of the 5th degree Polynomial model"
   ]
  },
  {
   "cell_type": "code",
   "execution_count": 25,
   "metadata": {},
   "outputs": [
    {
     "ename": "ValueError",
     "evalue": "operands could not be broadcast together with shapes (30,) (50,) ",
     "output_type": "error",
     "traceback": [
      "\u001b[1;31m---------------------------------------------------------------------------\u001b[0m",
      "\u001b[1;31mValueError\u001b[0m                                Traceback (most recent call last)",
      "\u001b[1;32m<ipython-input-25-0596f078e0b9>\u001b[0m in \u001b[0;36m<module>\u001b[1;34m\u001b[0m\n\u001b[0;32m      7\u001b[0m \u001b[0mx3\u001b[0m \u001b[1;33m=\u001b[0m \u001b[1;36m10\u001b[0m \u001b[1;33m*\u001b[0m \u001b[0mrng\u001b[0m\u001b[1;33m.\u001b[0m\u001b[0mrand\u001b[0m\u001b[1;33m(\u001b[0m\u001b[1;36m50\u001b[0m\u001b[1;33m)\u001b[0m\u001b[1;33m\u001b[0m\u001b[1;33m\u001b[0m\u001b[0m\n\u001b[0;32m      8\u001b[0m \u001b[1;33m\u001b[0m\u001b[0m\n\u001b[1;32m----> 9\u001b[1;33m \u001b[0my3\u001b[0m \u001b[1;33m=\u001b[0m \u001b[0mnp\u001b[0m\u001b[1;33m.\u001b[0m\u001b[0msin\u001b[0m\u001b[1;33m(\u001b[0m\u001b[0mx\u001b[0m\u001b[1;33m)\u001b[0m \u001b[1;33m+\u001b[0m \u001b[1;36m0.1\u001b[0m \u001b[1;33m*\u001b[0m \u001b[0mrng\u001b[0m\u001b[1;33m.\u001b[0m\u001b[0mrandn\u001b[0m\u001b[1;33m(\u001b[0m\u001b[1;36m50\u001b[0m\u001b[1;33m)\u001b[0m\u001b[1;33m\u001b[0m\u001b[1;33m\u001b[0m\u001b[0m\n\u001b[0m\u001b[0;32m     10\u001b[0m \u001b[1;33m\u001b[0m\u001b[0m\n\u001b[0;32m     11\u001b[0m \u001b[1;31m# model3.fit(x3, y3) #change the dimensions of x\u001b[0m\u001b[1;33m\u001b[0m\u001b[1;33m\u001b[0m\u001b[1;33m\u001b[0m\u001b[0m\n",
      "\u001b[1;31mValueError\u001b[0m: operands could not be broadcast together with shapes (30,) (50,) "
     ]
    }
   ],
   "source": [
    "from sklearn.pipeline import make_pipeline\n",
    "#make_pipeline for creating a pipeline of transforms with an estimator\n",
    "model3 = make_pipeline(PolynomialFeatures(5), LinearRegression())\n",
    "\n",
    "#Let's use this pipeline on a sine wave with noise\n",
    "rng =np.random.RandomState(1)\n",
    "x3 = 10 * rng.rand(50)\n",
    "\n",
    "y3 = np.sin(x) + 0.1 * rng.randn(50)\n",
    "\n",
    "# model3.fit(x3, y3) #change the dimensions of x\n",
    "model3.fit(x3[:, np.newaxis], y3)\n",
    "\n",
    "x3fit = np.linspace(0, 10, 1000)\n",
    "estimatedy = model3.predict(x3fit[:, np.newaxis])\n",
    "plt.scatter(x3, y3)\n",
    "plt.plot(x3fit, estimatedy)\n",
    "\n",
    "# By using the 5th order polynomial basis function, we were able to fit our non-linear(sin ) data\n",
    "\n"
   ]
  },
  {
   "cell_type": "markdown",
   "metadata": {},
   "source": [
    "## Gaussian Basis Function \n",
    "Fitting a gaussian basis function to non linear data \n",
    "There is no predefined Gaussian transformer in scikit learn like PolynomialFetaures, so we have to make our own transformer\n"
   ]
  },
  {
   "cell_type": "code",
   "execution_count": 26,
   "metadata": {},
   "outputs": [],
   "source": [
    "from sklearn.linear_model import LinearRegression\n",
    "from sklearn.base import BaseEstimator, TransformerMixin\n",
    "\n",
    "#BaseEstimator- Base class for all estimators\n",
    "#TransformerMixin- Mixin class for all transformers in scikit-learn.\n",
    "\n",
    "#making the transformer\n",
    "class GaussianFeatures(BaseEstimator, TransformerMixin):\n",
    "#making uniformly spaced Gaussian features for 1-D input\n",
    "\n",
    "#__init__ is a constructor in python\n",
    "#def __init__(self, realpart, imagpart):\n",
    "         #self.r = realpart\n",
    "         #self.i = imagpart\n",
    "        \n",
    "    def __init__(self, N, width_factor = 2.0):\n",
    "        self.N = N\n",
    "        self.width_factor = width_factor \n",
    "        \n",
    "    #staticmethod is a method that takes a single parameter\n",
    "    @staticmethod    \n",
    "    def _gauss_basis(x, y, width, axis = None):\n",
    "        arg = (x - y)/width\n",
    "        return np.exp(-0.5 * np.sum(arg ** 2, axis))\n",
    "    \n",
    "    \n",
    "    def fit(self, X, y = None):\n",
    "     self.centers_ = np.linspace(X.min(), X.max(), self.N)\n",
    "     self.width_ = self.width_factor * (self.centers_[1] - self.centers_[0])\n",
    "     return self\n",
    "\n",
    "    def transform(self, X):\n",
    "        return self._gauss_basis(X[:,:, np.newaxis], self.centers_, self.width_, axis =1)\n",
    "        \n"
   ]
  },
  {
   "cell_type": "code",
   "execution_count": 27,
   "metadata": {},
   "outputs": [
    {
     "data": {
      "image/png": "[encoded data removed]",
      "text/plain": [
       "<Figure size 432x288 with 1 Axes>"
      ]
     },
     "metadata": {},
     "output_type": "display_data"
    }
   ],
   "source": [
    "from sklearn.pipeline import make_pipeline\n",
    "\n",
    "#define the degree of the features\n",
    "gaussmodel = make_pipeline(GaussianFeatures(20), LinearRegression())\n",
    "gaussmodel.fit(x[:, np.newaxis], y)\n",
    "xfit = np.linspace(0, 10, 1000)\n",
    "yestim = gaussmodel.predict(xfit[:,np.newaxis])\n",
    "\n",
    "plt.scatter(x,y)\n",
    "plt.plot(xfit, yestim)\n",
    "\n",
    "plt.xlim(0, 10);"
   ]
  },
  {
   "cell_type": "code",
   "execution_count": null,
   "metadata": {},
   "outputs": [],
   "source": []
  }
 ],
 "metadata": {
  "kernelspec": {
   "display_name": "Python 3",
   "language": "python",
   "name": "python3"
  },
  "language_info": {
   "codemirror_mode": {
    "name": "ipython",
    "version": 3
   },
   "file_extension": ".py",
   "mimetype": "text/x-python",
   "name": "python",
   "nbconvert_exporter": "python",
   "pygments_lexer": "ipython3",
   "version": "3.7.6"
  }
 },
 "nbformat": 4,
 "nbformat_minor": 4
}
