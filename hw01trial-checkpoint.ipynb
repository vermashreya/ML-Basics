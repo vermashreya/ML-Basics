{
 "cells": [
  {
   "cell_type": "code",
   "execution_count": 8,
   "metadata": {},
   "outputs": [],
   "source": [
    "import numpy as np\n",
    "import matplotlib.pyplot as plt\n",
    "from scipy.stats import norm\n"
   ]
  },
  {
   "cell_type": "code",
   "execution_count": 9,
   "metadata": {},
   "outputs": [],
   "source": [
    "def plotData(x1,t1,x2=None,t2=None,x3=None,t3=None,legend=[]):\n",
    "    '''plotData(x1,t1,x2,t2,x3=None,t3=None,legend=[]): Generate a plot of the \n",
    "       training data, the true function, and the estimated function'''\n",
    "    p1 = plt.plot(x1, t1, 'bo') #plot training data\n",
    "    if(x2 is not None):\n",
    "        p2 = plt.plot(x2, t2, 'g') #plot true value\n",
    "    if(x3 is not None):\n",
    "        p3 = plt.plot(x3, t3, 'r') #plot training data\n",
    "\n",
    "    #add title, legend and axes labels\n",
    "    plt.ylabel('t') #label x and y axes\n",
    "    plt.xlabel('x')\n",
    "    \n",
    "    if(x2 is None):\n",
    "        plt.legend((p1[0]),legend)\n",
    "    if(x3 is None):\n",
    "        plt.legend((p1[0],p2[0]),legend)\n",
    "    else:\n",
    "        plt.legend((p1[0],p2[0],p3[0]),legend)"
   ]
  },
  {
   "cell_type": "code",
   "execution_count": 10,
   "metadata": {},
   "outputs": [],
   "source": [
    "def fitdataLS(x,t,M):\n",
    "    '''fitdataLS(x,t,M): Fit a polynomial of order M to the data (x,t) using LS'''\n",
    "    X = np.array([x ** m for m in range(M + 1)]).T\n",
    "    w = np.linalg.inv(X.T @ X) @ X.T @ t\n",
    "    return w"
   ]
  },
  {
   "cell_type": "code",
   "execution_count": 11,
   "metadata": {},
   "outputs": [],
   "source": [
    "def fitdataIRLS(x,t,M,k, iterations, tolerance_limit):\n",
    "    '''fitdataIRLS(x,t,M,k): Fit a polynomial of order M to the data (x,t) using IRLS'''\n",
    "    w0 = fitdataLS(x,t,M)  #getting initial LS weights\n",
    "    X = np.array([x ** m for m in range(M + 1)]).T\n",
    "    B = np.diag(w0) #initialize diagonal matrix B with ls weights\n",
    "    W = np.linalg.inv(X.T @ B @ X) @ X.T @ B @ t\n",
    "\n",
    "    for iter in range(iterations):\n",
    "\n",
    "        error_vec = abs(t - X @ W).T #get errors using current B\n",
    "        B_old = B #save current B as B_old for comparison\n",
    "        W_old = W\n",
    "\n",
    "        for i in range(len(error_vec)):\n",
    "            if error_vec[i] <= k:\n",
    "                B[i,i] = 1\n",
    "            elif error_vec[i] > k:\n",
    "                B[i,i] = k / error_vec[i]\n",
    "\n",
    "        W = np.linalg.inv(X.T @ B @ X) @ X.T @ B @ t\n",
    "\n",
    "        tolerance_B = sum(abs(B - B_old))\n",
    "        #print(\"Tolerance_B = %s\" % tolerance_B)\n",
    "\n",
    "        tolerance_W = sum(abs(W - W_old))\n",
    "        #print(\"Tolerance_W = %s\" % tolerance_W)\n",
    "\n",
    "        if tolerance_W < tolerance_limit or tolerance_B < tolerance_limit:\n",
    "            print(\"Tolerance_B = %s\" % tolerance_B)\n",
    "            print(\"Tolerance_W = %s\" % tolerance_W)\n",
    "            return W\n",
    "\n",
    "    return W\n"
   ]
  },
  {
   "cell_type": "code",
   "execution_count": 12,
   "metadata": {},
   "outputs": [],
   "source": [
    "M =  3 #regression model order\n",
    "k = 1 #Huber M-estimator tuning parameter"
   ]
  },
  {
   "cell_type": "code",
   "execution_count": 13,
   "metadata": {},
   "outputs": [
    {
     "ename": "FileNotFoundError",
     "evalue": "[Errno 2] No such file or directory: 'TrainData.npy'",
     "output_type": "error",
     "traceback": [
      "\u001b[1;31m---------------------------------------------------------------------------\u001b[0m",
      "\u001b[1;31mFileNotFoundError\u001b[0m                         Traceback (most recent call last)",
      "\u001b[1;32m<ipython-input-13-c0a26d950326>\u001b[0m in \u001b[0;36m<module>\u001b[1;34m\u001b[0m\n\u001b[1;32m----> 1\u001b[1;33m \u001b[0mdata_uniform\u001b[0m \u001b[1;33m=\u001b[0m \u001b[0mnp\u001b[0m\u001b[1;33m.\u001b[0m\u001b[0mload\u001b[0m\u001b[1;33m(\u001b[0m\u001b[1;34m'TrainData.npy'\u001b[0m\u001b[1;33m)\u001b[0m\u001b[1;33m\u001b[0m\u001b[1;33m\u001b[0m\u001b[0m\n\u001b[0m\u001b[0;32m      2\u001b[0m \u001b[0mx1\u001b[0m \u001b[1;33m=\u001b[0m \u001b[0mdata_uniform\u001b[0m\u001b[1;33m[\u001b[0m\u001b[1;33m:\u001b[0m\u001b[1;33m,\u001b[0m\u001b[1;36m0\u001b[0m\u001b[1;33m]\u001b[0m\u001b[1;33m\u001b[0m\u001b[1;33m\u001b[0m\u001b[0m\n\u001b[0;32m      3\u001b[0m \u001b[0mt1\u001b[0m \u001b[1;33m=\u001b[0m \u001b[0mdata_uniform\u001b[0m\u001b[1;33m[\u001b[0m\u001b[1;33m:\u001b[0m\u001b[1;33m,\u001b[0m\u001b[1;36m1\u001b[0m\u001b[1;33m]\u001b[0m\u001b[1;33m\u001b[0m\u001b[1;33m\u001b[0m\u001b[0m\n",
      "\u001b[1;32mC:\\ProgramData\\Anaconda3\\lib\\site-packages\\numpy\\lib\\npyio.py\u001b[0m in \u001b[0;36mload\u001b[1;34m(file, mmap_mode, allow_pickle, fix_imports, encoding)\u001b[0m\n\u001b[0;32m    420\u001b[0m         \u001b[0mown_fid\u001b[0m \u001b[1;33m=\u001b[0m \u001b[1;32mFalse\u001b[0m\u001b[1;33m\u001b[0m\u001b[1;33m\u001b[0m\u001b[0m\n\u001b[0;32m    421\u001b[0m     \u001b[1;32melse\u001b[0m\u001b[1;33m:\u001b[0m\u001b[1;33m\u001b[0m\u001b[1;33m\u001b[0m\u001b[0m\n\u001b[1;32m--> 422\u001b[1;33m         \u001b[0mfid\u001b[0m \u001b[1;33m=\u001b[0m \u001b[0mopen\u001b[0m\u001b[1;33m(\u001b[0m\u001b[0mos_fspath\u001b[0m\u001b[1;33m(\u001b[0m\u001b[0mfile\u001b[0m\u001b[1;33m)\u001b[0m\u001b[1;33m,\u001b[0m \u001b[1;34m\"rb\"\u001b[0m\u001b[1;33m)\u001b[0m\u001b[1;33m\u001b[0m\u001b[1;33m\u001b[0m\u001b[0m\n\u001b[0m\u001b[0;32m    423\u001b[0m         \u001b[0mown_fid\u001b[0m \u001b[1;33m=\u001b[0m \u001b[1;32mTrue\u001b[0m\u001b[1;33m\u001b[0m\u001b[1;33m\u001b[0m\u001b[0m\n\u001b[0;32m    424\u001b[0m \u001b[1;33m\u001b[0m\u001b[0m\n",
      "\u001b[1;31mFileNotFoundError\u001b[0m: [Errno 2] No such file or directory: 'TrainData.npy'"
     ]
    }
   ],
   "source": [
    "data_uniform = np.load('TrainData.npy')\n",
    "x1 = data_uniform[:,0]\n",
    "t1 = data_uniform[:,1]"
   ]
  },
  {
   "cell_type": "code",
   "execution_count": null,
   "metadata": {},
   "outputs": [],
   "source": []
  }
 ],
 "metadata": {
  "kernelspec": {
   "display_name": "Python 3",
   "language": "python",
   "name": "python3"
  },
  "language_info": {
   "codemirror_mode": {
    "name": "ipython",
    "version": 3
   },
   "file_extension": ".py",
   "mimetype": "text/x-python",
   "name": "python",
   "nbconvert_exporter": "python",
   "pygments_lexer": "ipython3",
   "version": "3.7.6"
  }
 },
 "nbformat": 4,
 "nbformat_minor": 2
}
