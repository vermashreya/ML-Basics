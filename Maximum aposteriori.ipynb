{
 "cells": [
  {
   "cell_type": "code",
   "execution_count": 5,
   "metadata": {},
   "outputs": [],
   "source": [
    "#importing libraries\n",
    "import numpy as np\n",
    "import matplotlib.pyplot as plt\n",
    "import math\n",
    "%matplotlib inline"
   ]
  },
  {
   "cell_type": "code",
   "execution_count": 6,
   "metadata": {},
   "outputs": [],
   "source": [
    "'''In Maximum a  posteriori along with data likelihood we take the product of priors which is \n",
    "proportional to posteriors, hence it is called maximum a posteriori, based on Bayes interpretation'''  \n",
    "#taking prior for both head and tail\n",
    "\n",
    "priorH= 2\n",
    "priorT = 2\n",
    "\n",
    "#see class notes for this derivation\n",
    "# a= 1, b= 1; plot the beta distribution with these values of a and b\n",
    "def PlotBeta(a = priorH, b = priorT):\n",
    "    xrange = np.arange(0, 1, 0.001)\n",
    "    nc = math.gamma(a+b)/(math.gamma(a)*math.gamma(b))\n",
    "    beta = nc * xrange**(a-1)*(1-xrange) ** (b-1) #see the derivation\n",
    "    fig = plt.figure()\n",
    "    p1 = plt.plot( xrange, beta, 'g')\n",
    "    plt.show()\n",
    "    \n",
    "\n"
   ]
  },
  {
   "cell_type": "code",
   "execution_count": null,
   "metadata": {},
   "outputs": [
    {
     "name": "stdout",
     "output_type": "stream",
     "text": [
      "[0]\n",
      "Frequentist/Maximum Likelihood Probability of Heads:0.0\n",
      "Bayesian/MAP Probability of Heads:0.3333333333333333\n",
      "Hit enter to continue, or q to quit...\n",
      "\n",
      "[0, 0]\n",
      "Frequentist/Maximum Likelihood Probability of Heads:0.0\n",
      "Bayesian/MAP Probability of Heads:0.25\n",
      "Hit enter to continue, or q to quit...\n",
      "\n",
      "[0, 0, 0]\n",
      "Frequentist/Maximum Likelihood Probability of Heads:0.0\n",
      "Bayesian/MAP Probability of Heads:0.2\n",
      "Hit enter to continue, or q to quit...\n",
      "\n",
      "[0, 0, 0, 0]\n",
      "Frequentist/Maximum Likelihood Probability of Heads:0.0\n",
      "Bayesian/MAP Probability of Heads:0.16666666666666666\n",
      "Hit enter to continue, or q to quit...\n",
      "\n",
      "[0, 0, 0, 0, 0]\n",
      "Frequentist/Maximum Likelihood Probability of Heads:0.0\n",
      "Bayesian/MAP Probability of Heads:0.14285714285714285\n",
      "Hit enter to continue, or q to quit...\n",
      "\n",
      "[0, 0, 0, 0, 0, 0]\n",
      "Frequentist/Maximum Likelihood Probability of Heads:0.0\n",
      "Bayesian/MAP Probability of Heads:0.125\n",
      "Hit enter to continue, or q to quit...\n",
      "\n",
      "[0, 0, 0, 0, 0, 0, 1]\n",
      "Frequentist/Maximum Likelihood Probability of Heads:0.14285714285714285\n",
      "Bayesian/MAP Probability of Heads:0.2222222222222222\n",
      "Hit enter to continue, or q to quit...\n",
      "\n",
      "[0, 0, 0, 0, 0, 0, 1, 0]\n",
      "Frequentist/Maximum Likelihood Probability of Heads:0.125\n",
      "Bayesian/MAP Probability of Heads:0.2\n",
      "Hit enter to continue, or q to quit...\n",
      "\n",
      "[0, 0, 0, 0, 0, 0, 1, 0, 1]\n",
      "Frequentist/Maximum Likelihood Probability of Heads:0.2222222222222222\n",
      "Bayesian/MAP Probability of Heads:0.2727272727272727\n",
      "Hit enter to continue, or q to quit...\n",
      "\n",
      "[0, 0, 0, 0, 0, 0, 1, 0, 1, 1]\n",
      "Frequentist/Maximum Likelihood Probability of Heads:0.3\n",
      "Bayesian/MAP Probability of Heads:0.3333333333333333\n",
      "Hit enter to continue, or q to quit...\n",
      "\n",
      "[0, 0, 0, 0, 0, 0, 1, 0, 1, 1, 0]\n",
      "Frequentist/Maximum Likelihood Probability of Heads:0.2727272727272727\n",
      "Bayesian/MAP Probability of Heads:0.3076923076923077\n"
     ]
    }
   ],
   "source": [
    "\n",
    "#Beta Distribution\n",
    "# plotBeta(priorA,priorB);\n",
    "\n",
    "mu = 0.5\n",
    "number_flips = 50\n",
    "flipResult = []\n",
    "for flip in range (number_flips):\n",
    "    flipResult.append(np.random.binomial(1, mu, 1)[0])\n",
    "    print(flipResult)\n",
    "    print('Frequentist/Maximum Likelihood Probability of Heads:' + str(sum(flipResult)/len(flipResult)))\n",
    "    print('Bayesian/MAP Probability of Heads:' + str((sum(flipResult)+priorH-1)/(len(flipResult)+priorH+priorT-2)))\n",
    "    if (input(\"Hit enter to continue, or q to quit...\\n\") == \"q\"):\n",
    "        print(\"quitting...\\n\")\n",
    "        break"
   ]
  },
  {
   "cell_type": "code",
   "execution_count": null,
   "metadata": {},
   "outputs": [],
   "source": []
  }
 ],
 "metadata": {
  "kernelspec": {
   "display_name": "Python 3",
   "language": "python",
   "name": "python3"
  },
  "language_info": {
   "codemirror_mode": {
    "name": "ipython",
    "version": 3
   },
   "file_extension": ".py",
   "mimetype": "text/x-python",
   "name": "python",
   "nbconvert_exporter": "python",
   "pygments_lexer": "ipython3",
   "version": "3.7.6"
  }
 },
 "nbformat": 4,
 "nbformat_minor": 4
}
